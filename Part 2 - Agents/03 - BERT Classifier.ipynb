{
 "cells": [
  {
   "cell_type": "code",
   "execution_count": null,
   "metadata": {},
   "outputs": [],
   "source": [
    "import os\n",
    "import shutil\n",
    "import numpy as np\n",
    "import pandas as pd\n",
    "import torch\n",
    "import torch.nn as nn\n",
    "from torch.utils.data import Dataset, DataLoader, random_split\n",
    "from transformers import AutoTokenizer, AutoModel, pipeline\n",
    "from sklearn.model_selection import train_test_split\n",
    "from tqdm.notebook import tqdm\n",
    "import matplotlib.pyplot as plt\n",
    "from tqdm import tqdm"
   ]
  },
  {
   "cell_type": "code",
   "execution_count": null,
   "metadata": {},
   "outputs": [],
   "source": [
    "device = torch.device(\"cuda\" if torch.cuda.is_available() else \"cpu\")"
   ]
  },
  {
   "cell_type": "code",
   "execution_count": null,
   "metadata": {},
   "outputs": [],
   "source": [
    "# https://drive.google.com/file/d/1pV7MIW_r3DExQzMNdkcCMZZr_Ww69Ykz/view?usp=sharing\n",
    "\n",
    "# Baixa e extrai o dataset\n",
    "!curl -L -o data/bloom_dataset_ptbr.csv \"https://drive.google.com/uc?export=download&id=1pV7MIW_r3DExQzMNdkcCMZZr_Ww69Ykz\"\n",
    "!unzip data/bloom_dataset_ptbr.csv -d data"
   ]
  },
  {
   "cell_type": "code",
   "execution_count": null,
   "metadata": {},
   "outputs": [],
   "source": [
    "df = pd.read_csv('data/bloom_dataset_ptbr.csv')\n",
    "\n",
    "df.fillna(0, inplace=True)\n",
    "df['one_hot'] = list(df.iloc[:, 1:-1].values)\n",
    "\n",
    "LABELS = list(df.iloc[:, 1:-1])\n",
    "print(LABELS)\n",
    "\n",
    "df.head()"
   ]
  },
  {
   "cell_type": "code",
   "execution_count": null,
   "metadata": {},
   "outputs": [],
   "source": [
    "class BloomDataset(Dataset):\n",
    "    def __init__(self, df):\n",
    "        self.df = df\n",
    "\n",
    "    def __getitem__(self, index):\n",
    "        text, one_hot = df.loc[index, ['text', 'one_hot']]\n",
    "        target = np.argmax(one_hot)\n",
    "        target = torch.tensor(one_hot).float()\n",
    "        return text, target\n",
    "\n",
    "    def __len__(self):\n",
    "        return len(self.df)"
   ]
  },
  {
   "cell_type": "code",
   "execution_count": null,
   "metadata": {},
   "outputs": [],
   "source": [
    "df_train, df_test = train_test_split(df, test_size=0.2)\n",
    "\n",
    "train_set = BloomDataset(df_train)\n",
    "test_set = BloomDataset(df_test)\n",
    "\n",
    "train_loader = DataLoader(train_set, batch_size=32, shuffle=True)\n",
    "val_loader = DataLoader(test_set, batch_size=32, shuffle=True)"
   ]
  },
  {
   "cell_type": "code",
   "execution_count": null,
   "metadata": {},
   "outputs": [],
   "source": [
    "train_set[0]"
   ]
  },
  {
   "cell_type": "code",
   "execution_count": null,
   "metadata": {},
   "outputs": [],
   "source": [
    "class BloomClassifier(nn.Module):\n",
    "    def __init__(\n",
    "        self,\n",
    "        num_classes=6,\n",
    "        bert_model='neuralmind/bert-base-portuguese-cased',\n",
    "        freeze_bert=True,\n",
    "        labels=LABELS\n",
    "    ):\n",
    "        super().__init__()\n",
    "        self.num_classes = num_classes\n",
    "        self.tokenizer = AutoTokenizer.from_pretrained(bert_model)\n",
    "        self.bert = AutoModel.from_pretrained(bert_model)\n",
    "        self.fc = nn.Linear(self.bert.config.hidden_size, num_classes)\n",
    "        self.labels = labels\n",
    "\n",
    "        if freeze_bert:\n",
    "            # Congelando todas as camadas...\n",
    "            for param in self.bert.parameters():\n",
    "                    param.requires_grad = False\n",
    "\n",
    "            # ... menos as duas últimas\n",
    "            for param in self.bert.encoder.layer[-2:].parameters():\n",
    "                param.requires_grad = True\n",
    "\n",
    "    def forward(self, **kwargs):\n",
    "        encodings = self.bert(**kwargs).last_hidden_state\n",
    "        encodings = encodings[:, 0, :]\n",
    "        outputs = self.fc(encodings)\n",
    "        outputs = torch.sigmoid(outputs)\n",
    "        return outputs\n",
    "\n",
    "    def predict(self, text, return_labels=True, threshold=0.5):\n",
    "        inputs = self.tokenizer(text, return_tensors='pt', padding=True).to(self.encoder.device)\n",
    "        outputs = (self.forward(**inputs) > threshold).int().squeeze()\n",
    "\n",
    "        if return_labels:\n",
    "            outputs = [LABELS[i] for i in range(len(self.labels)) if outputs[i]]\n",
    "\n",
    "        return outputs\n",
    "\n",
    "\n",
    "model = BloomClassifier(bert_model='neuralmind/bert-base-portuguese-cased', freeze_bert=True).to(device)"
   ]
  },
  {
   "cell_type": "code",
   "execution_count": null,
   "metadata": {},
   "outputs": [],
   "source": [
    "criterion = nn.BCELoss()\n",
    "optimizer = torch.optim.Adam(model.parameters(), lr=2e-5)"
   ]
  },
  {
   "cell_type": "code",
   "execution_count": null,
   "metadata": {},
   "outputs": [],
   "source": [
    "# Training Loop\n",
    "num_epochs = 5\n",
    "\n",
    "all_train_losses = []\n",
    "all_train_accs = []\n",
    "all_val_losses = []\n",
    "all_val_accs = []\n",
    "\n",
    "for epoch in range(num_epochs):\n",
    "    model.train()\n",
    "    train_losses = []\n",
    "    train_accs = []\n",
    "\n",
    "    for batch in tqdm(train_loader):\n",
    "        text, target = batch\n",
    "        inputs = model.tokenizer(text, return_tensors='pt', padding=True, truncation=True, max_length=512).to(device)\n",
    "        target = target.to(device)\n",
    "\n",
    "        optimizer.zero_grad()\n",
    "        pred = model(**inputs)\n",
    "        loss = criterion(pred, target)\n",
    "        loss.backward()\n",
    "        optimizer.step()\n",
    "\n",
    "        train_losses.append(loss.item())\n",
    "        acc = ((pred > 0.5) == target).int().sum()/pred.numel()\n",
    "        train_accs.append(acc.item())\n",
    "\n",
    "    train_loss = np.mean(train_losses)\n",
    "    train_acc = np.mean(train_accs)\n",
    "\n",
    "    all_train_losses.append(train_loss)\n",
    "    all_train_accs.append(train_acc)\n",
    "    \n",
    "    print(f'Epoch {epoch+1}/{num_epochs}, Training Loss: {train_loss:.4f}, Training Accuracy: {train_acc:.4f}')\n",
    "\n",
    "    # Validation Loop\n",
    "    model.eval()\n",
    "    val_losses = []\n",
    "    val_accs = []\n",
    "\n",
    "    with torch.no_grad():\n",
    "        for batch in tqdm(val_loader):\n",
    "            text, target = batch\n",
    "            inputs = model.tokenizer(text, return_tensors='pt', padding=True, truncation=True, max_length=512).to(device)\n",
    "            target = target.to(device)\n",
    "            pred = model(**inputs)\n",
    "            loss = criterion(pred, target)\n",
    "            \n",
    "            val_losses.append(loss.item())\n",
    "            acc = ((pred > 0.5) == target).int().sum()/pred.numel()\n",
    "            val_accs.append(acc.item())\n",
    "\n",
    "    val_loss = np.mean(val_losses)\n",
    "    val_acc = np.mean(val_accs)\n",
    "\n",
    "    all_val_losses.append(val_loss)\n",
    "    all_val_accs.append(val_acc)\n",
    "\n",
    "    print(f'Epoch {epoch+1}/{num_epochs}, Validation Loss: {val_loss:.4f}, Validation Accuracy: {val_acc:.4f}')"
   ]
  },
  {
   "cell_type": "code",
   "execution_count": null,
   "metadata": {},
   "outputs": [],
   "source": [
    "# ploat all\n",
    "plt.figure(figsize=(12, 4))\n",
    "plt.subplot(1, 2, 1)\n",
    "plt.plot(all_train_losses, label='Training Loss')\n",
    "plt.plot(all_val_losses, label='Validation Loss')\n",
    "plt.xlabel('Epoch')\n",
    "plt.ylabel('Loss')\n",
    "plt.legend()\n",
    "\n",
    "plt.subplot(1, 2, 2)\n",
    "plt.plot(all_train_accs, label='Training Accuracy')\n",
    "plt.plot(all_val_accs, label='Validation Accuracy')\n",
    "plt.xlabel('Epoch')\n",
    "plt.ylabel('Accuracy')\n",
    "plt.legend()\n",
    "\n",
    "plt.show()"
   ]
  },
  {
   "cell_type": "code",
   "execution_count": null,
   "metadata": {},
   "outputs": [],
   "source": [
    "embeddings = []\n",
    "labels = []\n",
    "\n",
    "with torch.no_grad():\n",
    "    for batch in tqdm(val_loader):\n",
    "        text, target = batch\n",
    "        inputs = model.tokenizer(text, return_tensors='pt', padding=True, truncation=True, max_length=512).to(device)\n",
    "        pred = model.bert(**inputs).last_hidden_state[:, 0, :].detach().cpu().numpy()\n",
    "        target = target.argmax(dim=-1).detach().cpu().numpy()\n",
    "        embeddings.extend(pred)\n",
    "        labels.extend(target)\n",
    "\n",
    "embeddings = np.array(embeddings)\n",
    "labels = np.array(labels)"
   ]
  },
  {
   "cell_type": "code",
   "execution_count": null,
   "metadata": {},
   "outputs": [],
   "source": [
    "from sklearn.manifold import TSNE\n",
    "\n",
    "# Apply t-SNE\n",
    "tsne = TSNE(n_components=2, random_state=42)\n",
    "embeddings_2d = tsne.fit_transform(embeddings)"
   ]
  },
  {
   "cell_type": "code",
   "execution_count": null,
   "metadata": {},
   "outputs": [],
   "source": [
    "# Scatter plot\n",
    "plt.figure(figsize=(10, 8))\n",
    "scatter = plt.scatter(embeddings_2d[:, 0], embeddings_2d[:, 1], c=labels, cmap='rainbow', alpha=0.7)\n",
    "\n",
    "# Add a legend\n",
    "legend = plt.legend(*scatter.legend_elements(), title=\"Classes\", loc=\"upper right\")\n",
    "plt.gca().add_artist(legend)\n",
    "\n",
    "# Add title and labels\n",
    "plt.title(\"t-SNE of Embeddings\")\n",
    "plt.xlabel(\"t-SNE component 1\")\n",
    "plt.ylabel(\"t-SNE component 2\")\n",
    "\n",
    "# Show plot\n",
    "plt.show()"
   ]
  }
 ],
 "metadata": {
  "kernelspec": {
   "display_name": "base",
   "language": "python",
   "name": "python3"
  },
  "language_info": {
   "codemirror_mode": {
    "name": "ipython",
    "version": 3
   },
   "file_extension": ".py",
   "mimetype": "text/x-python",
   "name": "python",
   "nbconvert_exporter": "python",
   "pygments_lexer": "ipython3",
   "version": "3.10.13"
  }
 },
 "nbformat": 4,
 "nbformat_minor": 2
}
