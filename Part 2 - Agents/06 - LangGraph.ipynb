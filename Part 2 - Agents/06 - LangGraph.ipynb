{
 "cells": [
  {
   "cell_type": "markdown",
   "id": "f1ec67e7",
   "metadata": {},
   "source": [
    "### Introdução ao LangGraph\n",
    "\n",
    "LangGraph é uma biblioteca para construção de fluxos de execução com LLMs de forma estruturada, utilizando grafos de estados.\n",
    "\n",
    "Ele permite criar \"state machines\" com transições condicionais, paralelismo, loops e memória. Cada nó pode ser uma função, agente ou LLM.\n",
    "\n",
    "**Vantagens:**\n",
    "- Controle explícito do fluxo de execução\n",
    "- Suporte para ciclos e ramificações\n",
    "- Fácil integração com LangChain"
   ]
  },
  {
   "cell_type": "code",
   "execution_count": null,
   "id": "0cce2bc7",
   "metadata": {},
   "outputs": [],
   "source": [
    "# !pip install langgraph langchain openai --quiet"
   ]
  },
  {
   "cell_type": "code",
   "execution_count": null,
   "id": "50e502ab",
   "metadata": {},
   "outputs": [],
   "source": [
    "from langgraph.graph import StateGraph, END\n",
    "from langchain_core.messages import HumanMessage, AIMessage"
   ]
  },
  {
   "cell_type": "markdown",
   "id": "d969740d",
   "metadata": {},
   "source": [
    "### Conceitos-Chave\n",
    "\n",
    "- **StateGraph**: estrutura principal do grafo, define nós e transições.\n",
    "- **Node**: cada nó é uma etapa do fluxo (função, LLM, agente, etc.).\n",
    "- **State**: dicionário contendo os dados mantidos e passados entre nós.\n",
    "- **Edges**: conexões entre os nós, podem ser condicionais.\n",
    "- **Condições**: lógica que define para qual nó ir após cada execução.\n",
    "\n",
    "**Exemplo de estado:**\n",
    "\n",
    "```python\n",
    "{\n",
    "  \"messages\": [HumanMessage(...), AIMessage(...)],\n",
    "  \"step\": 2,\n",
    "  \"user_name\": \"Silvan\"\n",
    "}"
   ]
  },
  {
   "cell_type": "markdown",
   "id": "47c73163",
   "metadata": {},
   "source": [
    "### Exemplo 1: Grafo Simples com 1 Nó\n",
    "\n",
    "Neste exemplo básico, criamos um LangGraph com um único nó chamado `greet`. Ele apenas retorna uma mensagem com o nome informado no estado inicial."
   ]
  },
  {
   "cell_type": "code",
   "execution_count": null,
   "id": "c1a5cf5c",
   "metadata": {},
   "outputs": [],
   "source": [
    "from typing_extensions import TypedDict\n",
    "\n",
    "class SimpleState(TypedDict):\n",
    "    name: str\n",
    "    message: str"
   ]
  },
  {
   "cell_type": "code",
   "execution_count": null,
   "id": "c932c89a",
   "metadata": {},
   "outputs": [],
   "source": [
    "def greet(state):\n",
    "    name = state[\"name\"]\n",
    "    return {\"message\": f\"Olá, {name}!\"}"
   ]
  },
  {
   "cell_type": "code",
   "execution_count": null,
   "id": "328e6962",
   "metadata": {},
   "outputs": [],
   "source": [
    "builder = StateGraph(SimpleState)\n",
    "\n",
    "builder.add_node(\"cumprimenta\", greet)\n",
    "\n",
    "builder.set_entry_point(\"cumprimenta\")\n",
    "builder.add_edge(\"cumprimenta\", END)\n",
    "\n",
    "graph = builder.compile()"
   ]
  },
  {
   "cell_type": "code",
   "execution_count": null,
   "id": "e59a72f7",
   "metadata": {},
   "outputs": [],
   "source": [
    "from IPython.display import Image, display\n",
    "\n",
    "try:\n",
    "    display(Image(graph.get_graph().draw_mermaid_png()))\n",
    "except Exception:\n",
    "    pass"
   ]
  },
  {
   "cell_type": "code",
   "execution_count": null,
   "id": "7d114b4a",
   "metadata": {},
   "outputs": [],
   "source": [
    "graph.invoke({\"name\": \"Silvan\"})"
   ]
  },
  {
   "cell_type": "markdown",
   "id": "61283b59",
   "metadata": {},
   "source": [
    "### Exemplo 2: Grafo com Múltiplos Nós Seguidos\n",
    "\n",
    "Aqui, processamos uma string em três etapas:\n",
    "1. Remover espaços extras\n",
    "2. Converter para letras maiúsculas\n",
    "3. Adicionar pontuação\n",
    "\n",
    "Cada etapa é representada por um nó no grafo. Esse exemplo demonstra como encadear transformações sequenciais com LangGraph."
   ]
  },
  {
   "cell_type": "code",
   "execution_count": null,
   "id": "c356bcc5",
   "metadata": {},
   "outputs": [],
   "source": [
    "class TextState(TypedDict):\n",
    "    text: str\n",
    "    final_text: str"
   ]
  },
  {
   "cell_type": "code",
   "execution_count": null,
   "id": "1182b56c",
   "metadata": {},
   "outputs": [],
   "source": [
    "def strip_text(state: TextState) -> TextState:\n",
    "    return {\"text\": state[\"text\"].strip()}\n",
    "\n",
    "def uppercase_text(state: TextState) -> TextState:\n",
    "    return {\"text\": state[\"text\"].upper()}\n",
    "\n",
    "def punctuate_text(state: TextState) -> TextState:\n",
    "    return {\"final_text\": state[\"text\"] + \"!\"}"
   ]
  },
  {
   "cell_type": "code",
   "execution_count": null,
   "id": "e0ccb29f",
   "metadata": {},
   "outputs": [],
   "source": [
    "builder = StateGraph(TextState)\n",
    "\n",
    "builder.add_node(\"strip\", strip_text)\n",
    "builder.add_node(\"uppercase\", uppercase_text)\n",
    "builder.add_node(\"punctuate\", punctuate_text)\n",
    "\n",
    "builder.set_entry_point(\"strip\")\n",
    "builder.add_edge(\"strip\", \"uppercase\")\n",
    "builder.add_edge(\"uppercase\", \"punctuate\")\n",
    "builder.add_edge(\"punctuate\", END)\n",
    "\n",
    "graph = builder.compile()"
   ]
  },
  {
   "cell_type": "code",
   "execution_count": null,
   "id": "31fae5cd",
   "metadata": {},
   "outputs": [],
   "source": [
    "from IPython.display import Image, display\n",
    "\n",
    "try:\n",
    "    display(Image(graph.get_graph().draw_mermaid_png()))\n",
    "except Exception:\n",
    "    pass"
   ]
  },
  {
   "cell_type": "code",
   "execution_count": null,
   "id": "5f6db8f6",
   "metadata": {},
   "outputs": [],
   "source": [
    "graph.invoke({\"text\": \"  olá mundo  \"})"
   ]
  },
  {
   "cell_type": "markdown",
   "id": "4b1817cd",
   "metadata": {},
   "source": [
    "### Exemplo 3: Grafo com tomada de decisão\n",
    "\n",
    "Um grafo com decisão permite que a execução siga diferentes caminhos dependendo do estado atual. Isso é feito usando **arestas condicionais**, que direcionam a execução com base em uma função de decisão.\n",
    "\n",
    "No LangGraph, usamos `add_conditional_edges()` para isso. Essa função recebe:\n",
    "- o nó atual\n",
    "- uma função que decide qual transição seguir\n",
    "- um dicionário que mapeia as possíveis decisões para os próximos nós\n",
    "\n",
    "Esse padrão é útil para implementar comportamentos como:\n",
    "- loops com condição de parada\n",
    "- fluxos que mudam dependendo da resposta do LLM\n",
    "- verificações como \"se resposta contém 'tchau', encerre\"\n",
    "\n",
    "**Exemplo prático:**\n",
    "```python\n",
    "def decidir_proximo(state):\n",
    "    if state[\"count\"] < 3:\n",
    "        return \"loop\"\n",
    "    return END\n",
    "\n",
    "Neste exemplo, o número recebido é verificado quanto à paridade. Dependendo se é par ou ímpar, o grafo segue caminhos diferentes."
   ]
  },
  {
   "cell_type": "code",
   "execution_count": null,
   "id": "fd901e63",
   "metadata": {},
   "outputs": [],
   "source": [
    "class NumberState(TypedDict):\n",
    "    number: int\n",
    "    result: str"
   ]
  },
  {
   "cell_type": "code",
   "execution_count": null,
   "id": "82dec269",
   "metadata": {},
   "outputs": [],
   "source": [
    "def decide_parity(state: NumberState) -> str:\n",
    "    return \"even\" if state[\"number\"] % 2 == 0 else \"odd\"\n",
    "\n",
    "def handle_even(state: NumberState) -> NumberState:\n",
    "    return {\"result\": \"Número é par\"}\n",
    "\n",
    "def handle_odd(state: NumberState) -> NumberState:\n",
    "    return {\"result\": \"Número é ímpar\"}"
   ]
  },
  {
   "cell_type": "code",
   "execution_count": null,
   "id": "153a6a2f",
   "metadata": {},
   "outputs": [],
   "source": [
    "builder = StateGraph(NumberState)\n",
    "\n",
    "builder.add_node(\"decide\", lambda x: x)\n",
    "builder.add_node(\"even\", handle_even)\n",
    "builder.add_node(\"odd\", handle_odd)\n",
    "\n",
    "builder.set_entry_point(\"decide\")\n",
    "builder.add_conditional_edges(\"decide\", decide_parity, {\"even\": \"even\", \"odd\": \"odd\"})\n",
    "builder.add_edge(\"even\", END)\n",
    "builder.add_edge(\"odd\", END)\n",
    "\n",
    "graph = builder.compile()"
   ]
  },
  {
   "cell_type": "code",
   "execution_count": null,
   "id": "e1c07925",
   "metadata": {},
   "outputs": [],
   "source": [
    "from IPython.display import Image, display\n",
    "\n",
    "try:\n",
    "    display(Image(graph.get_graph().draw_mermaid_png()))\n",
    "except Exception:\n",
    "    pass"
   ]
  },
  {
   "cell_type": "code",
   "execution_count": null,
   "id": "196512d4",
   "metadata": {},
   "outputs": [],
   "source": [
    "graph.invoke({\"number\": 7})"
   ]
  },
  {
   "cell_type": "markdown",
   "id": "aacef373",
   "metadata": {},
   "source": [
    "### Exemplo 4: Grafo com loop\n",
    "\n",
    "O grafo repete a execução de um nó até que uma condição de parada seja satisfeita. Isso permite simular repetições ou interações.\n",
    "\n",
    "Neste exemplo: Recebe um texto e um número `n`. A cada iteração, adiciona uma exclamação (!) ao final do texto. O loop para após `n` iterações."
   ]
  },
  {
   "cell_type": "code",
   "execution_count": null,
   "id": "57f275f9",
   "metadata": {},
   "outputs": [],
   "source": [
    "class LoopState(TypedDict):\n",
    "    text: str\n",
    "    num: int"
   ]
  },
  {
   "cell_type": "code",
   "execution_count": null,
   "id": "c1088c47",
   "metadata": {},
   "outputs": [],
   "source": [
    "def add_exclamation(state: LoopState) -> LoopState:\n",
    "    return {\n",
    "        \"text\": state[\"text\"] + \"!\",\n",
    "        \"num\": state[\"num\"] - 1\n",
    "    }\n",
    "\n",
    "def should_continue(state: LoopState) -> str:\n",
    "    return \"loop\" if state[\"num\"] > 0 else END"
   ]
  },
  {
   "cell_type": "code",
   "execution_count": null,
   "id": "2a4a31a2",
   "metadata": {},
   "outputs": [],
   "source": [
    "builder = StateGraph(LoopState)\n",
    "\n",
    "builder.add_node(\"loop\", add_exclamation)\n",
    "builder.set_entry_point(\"loop\")\n",
    "builder.add_conditional_edges(\"loop\", should_continue, {\"loop\": \"loop\", \"__end__\": END})\n",
    "\n",
    "graph = builder.compile()"
   ]
  },
  {
   "cell_type": "code",
   "execution_count": null,
   "id": "335f0f4b",
   "metadata": {},
   "outputs": [],
   "source": [
    "from IPython.display import Image, display\n",
    "\n",
    "try:\n",
    "    display(Image(graph.get_graph().draw_mermaid_png()))\n",
    "except Exception:\n",
    "    pass"
   ]
  },
  {
   "cell_type": "code",
   "execution_count": null,
   "id": "595e01d3",
   "metadata": {},
   "outputs": [],
   "source": [
    "graph.invoke({\"text\": \"Oi\", \"num\": 4})"
   ]
  },
  {
   "cell_type": "markdown",
   "id": "4bc9757b",
   "metadata": {},
   "source": [
    "### Conclusão e Referências\n",
    "\n",
    "LangGraph permite construir fluxos de execução sofisticados com LLMs, combinando flexibilidade de grafos com o poder de modelos generativos.\n",
    "\n",
    "Ele é especialmente útil quando há necessidade de:\n",
    "- Controle de estados\n",
    "- Condicionalidade complexa\n",
    "- Interações iterativas com LLMs\n",
    "\n",
    "**Links úteis:**\n",
    "- Documentação: https://docs.langchain.com/langgraph/\n",
    "- GitHub: https://github.com/langchain-ai/langgraph"
   ]
  }
 ],
 "metadata": {
  "kernelspec": {
   "display_name": "base",
   "language": "python",
   "name": "python3"
  },
  "language_info": {
   "codemirror_mode": {
    "name": "ipython",
    "version": 3
   },
   "file_extension": ".py",
   "mimetype": "text/x-python",
   "name": "python",
   "nbconvert_exporter": "python",
   "pygments_lexer": "ipython3",
   "version": "3.10.9"
  }
 },
 "nbformat": 4,
 "nbformat_minor": 5
}
