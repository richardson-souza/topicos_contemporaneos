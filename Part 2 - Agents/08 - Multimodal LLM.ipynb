{
 "cells": [
  {
   "cell_type": "code",
   "execution_count": null,
   "id": "bfe1f08f",
   "metadata": {},
   "outputs": [],
   "source": [
    "import os\n",
    "import io\n",
    "import base64\n",
    "import requests\n",
    "from PIL import Image\n",
    "import matplotlib.pyplot as plt\n",
    "from langchain_openai import ChatOpenAI\n",
    "from langchain_core.messages import SystemMessage, HumanMessage\n",
    "from pydantic import BaseModel, Field"
   ]
  },
  {
   "cell_type": "code",
   "execution_count": null,
   "id": "0e804a81",
   "metadata": {},
   "outputs": [],
   "source": [
    "def download_image(url: str, save_path: str) -> str:\n",
    "    response = requests.get(url)\n",
    "    response.raise_for_status()\n",
    "    with open(save_path, 'wb') as f:\n",
    "        f.write(response.content)\n",
    "    return save_path\n",
    "\n",
    "def image_file_to_data_url(image_path: str) -> str:\n",
    "    img = Image.open(image_path).convert(\"RGB\")  # Convert to RGB\n",
    "    buffered = io.BytesIO()\n",
    "    img.save(buffered, format=\"PNG\")  # Force PNG for consistency\n",
    "    b64 = base64.b64encode(buffered.getvalue()).decode(\"utf-8\")\n",
    "    return f\"data:image/png;base64,{b64}\"\n",
    "\n",
    "def show_image(image_path: str):\n",
    "    img = Image.open(image_path)\n",
    "    plt.imshow(img)\n",
    "    plt.axis(\"off\")\n",
    "    plt.show()"
   ]
  },
  {
   "cell_type": "code",
   "execution_count": null,
   "id": "182fda20",
   "metadata": {},
   "outputs": [],
   "source": [
    "url = \"https://images.ctfassets.net/sfnkq8lmu5d7/2LUZAR1nyO0sZJC0nqL5cU/80275803d53b895ebe46cd57fb983e9d/2021-11-18_Is_Your_Dog-s_Rough_Play_Appropriate_.jpg\"\n",
    "filename = \"dog_play.jpg\"\n",
    "\n",
    "download_image(url, filename)\n",
    "data_url = image_file_to_data_url(filename)\n",
    "\n",
    "show_image(filename)"
   ]
  },
  {
   "cell_type": "code",
   "execution_count": null,
   "id": "2ccbab67",
   "metadata": {},
   "outputs": [],
   "source": [
    "llm = ChatOpenAI(model=\"gpt-4o-mini\", temperature=0)"
   ]
  },
  {
   "cell_type": "code",
   "execution_count": null,
   "id": "813fa821",
   "metadata": {},
   "outputs": [],
   "source": [
    "messages = [\n",
    "    SystemMessage(content=\"Você é um assistente de IA especializado em analisar imagens.\"),\n",
    "    HumanMessage([\n",
    "        {\"type\": \"text\", \"text\": \"O que tem nessa imagem?\"},\n",
    "        {\"type\": \"image_url\", \"image_url\": {\"url\": data_url}}\n",
    "    ])\n",
    "]"
   ]
  },
  {
   "cell_type": "code",
   "execution_count": null,
   "id": "58861ed1",
   "metadata": {},
   "outputs": [],
   "source": [
    "response = llm.invoke(messages)"
   ]
  },
  {
   "cell_type": "code",
   "execution_count": null,
   "id": "f8d36f35",
   "metadata": {},
   "outputs": [],
   "source": [
    "response.content"
   ]
  }
 ],
 "metadata": {
  "kernelspec": {
   "display_name": "base",
   "language": "python",
   "name": "python3"
  },
  "language_info": {
   "codemirror_mode": {
    "name": "ipython",
    "version": 3
   },
   "file_extension": ".py",
   "mimetype": "text/x-python",
   "name": "python",
   "nbconvert_exporter": "python",
   "pygments_lexer": "ipython3",
   "version": "3.10.9"
  }
 },
 "nbformat": 4,
 "nbformat_minor": 5
}
