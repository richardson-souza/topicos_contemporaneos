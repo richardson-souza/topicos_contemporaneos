{
 "cells": [
  {
   "cell_type": "markdown",
   "id": "41e1728f",
   "metadata": {},
   "source": [
    "### Chat Básico\n",
    "\n",
    "**Objetivo:** Receber uma mensagem do usuário e gerar uma resposta com LLM.\n",
    "\n",
    "Esse é o caso mais básico de uso de LLM em LangGraph."
   ]
  },
  {
   "cell_type": "code",
   "execution_count": null,
   "id": "86aefbf5",
   "metadata": {},
   "outputs": [],
   "source": [
    "from langchain_openai import ChatOpenAI\n",
    "from langgraph.graph import StateGraph, START, END\n",
    "from langchain_core.messages import HumanMessage, AIMessage\n",
    "from langgraph.graph.message import add_messages"
   ]
  },
  {
   "cell_type": "code",
   "execution_count": null,
   "id": "c51454c9",
   "metadata": {},
   "outputs": [],
   "source": [
    "llm = ChatOpenAI(model=\"gpt-4o-mini\")"
   ]
  },
  {
   "cell_type": "code",
   "execution_count": null,
   "id": "86292bfa",
   "metadata": {},
   "outputs": [],
   "source": [
    "from typing import Annotated, TypedDict\n",
    "\n",
    "class State(TypedDict):\n",
    "    messages: Annotated[list, add_messages]"
   ]
  },
  {
   "cell_type": "code",
   "execution_count": null,
   "id": "44548a35",
   "metadata": {},
   "outputs": [],
   "source": [
    "def chatbot(state: State):\n",
    "    messages = state[\"messages\"]\n",
    "    response = llm.invoke(messages)\n",
    "    return {\"messages\": [response]}"
   ]
  },
  {
   "cell_type": "code",
   "execution_count": null,
   "id": "95903b35",
   "metadata": {},
   "outputs": [],
   "source": [
    "builder = StateGraph(State)\n",
    "\n",
    "builder.add_node(\"chatbot\", chatbot)\n",
    "\n",
    "builder.add_edge(START, \"chatbot\")\n",
    "builder.add_edge(\"chatbot\", END)\n",
    "\n",
    "graph = builder.compile()"
   ]
  },
  {
   "cell_type": "code",
   "execution_count": null,
   "id": "57a89715",
   "metadata": {},
   "outputs": [],
   "source": [
    "from IPython.display import Image, display\n",
    "\n",
    "try:\n",
    "    display(Image(graph.get_graph().draw_mermaid_png()))\n",
    "except Exception:\n",
    "    pass"
   ]
  },
  {
   "cell_type": "code",
   "execution_count": null,
   "id": "98261edd",
   "metadata": {},
   "outputs": [],
   "source": [
    "response = graph.invoke({\n",
    "    \"messages\": [\n",
    "        HumanMessage(content=\"Qual é a capital de Pernambuco?\"),\n",
    "    ]\n",
    "})"
   ]
  },
  {
   "cell_type": "code",
   "execution_count": null,
   "id": "55c48a57",
   "metadata": {},
   "outputs": [],
   "source": [
    "for msg in response[\"messages\"]:\n",
    "    print(f\"{msg.type}: {msg.content}\")"
   ]
  },
  {
   "cell_type": "markdown",
   "id": "3b6f59a8",
   "metadata": {},
   "source": [
    "### Ferramentas"
   ]
  },
  {
   "cell_type": "code",
   "execution_count": null,
   "id": "098e4acc",
   "metadata": {},
   "outputs": [],
   "source": [
    "from langchain.tools import tool\n",
    "\n",
    "@tool\n",
    "def get_weather(location: str) -> str:\n",
    "    \"\"\"Retorna a previsão do tempo para uma localização específica.\"\"\"\n",
    "    return f\"A previsão do tempo em {location} é ensolarada com uma temperatura de 25°C.\"\n",
    "\n",
    "tools = [get_weather]"
   ]
  },
  {
   "cell_type": "code",
   "execution_count": null,
   "id": "33d34b12",
   "metadata": {},
   "outputs": [],
   "source": [
    "llm_with_tools = llm.bind_tools(tools)"
   ]
  },
  {
   "cell_type": "code",
   "execution_count": null,
   "id": "0418272f",
   "metadata": {},
   "outputs": [],
   "source": [
    "result = llm_with_tools.invoke(\"qual é a previsão do tempo em Natal?\")\n",
    "print(result)"
   ]
  },
  {
   "cell_type": "code",
   "execution_count": null,
   "id": "f261dfca",
   "metadata": {},
   "outputs": [],
   "source": [
    "class State(TypedDict):\n",
    "    messages: Annotated[list, add_messages]"
   ]
  },
  {
   "cell_type": "code",
   "execution_count": null,
   "id": "d1173bb8",
   "metadata": {},
   "outputs": [],
   "source": [
    "from langgraph.prebuilt import ToolNode, tools_condition\n",
    "\n",
    "def chatbot(state: State):\n",
    "    messages = state[\"messages\"]\n",
    "    return {\"messages\": [llm_with_tools.invoke(messages)]}\n",
    "\n",
    "tool_node = ToolNode(tools=tools)"
   ]
  },
  {
   "cell_type": "code",
   "execution_count": null,
   "id": "093860a9",
   "metadata": {},
   "outputs": [],
   "source": [
    "builder = StateGraph(State)\n",
    "\n",
    "builder.add_node(\"chatbot\", chatbot)\n",
    "builder.add_node(\"tools\", tool_node)\n",
    "\n",
    "builder.add_conditional_edges(\n",
    "    \"chatbot\",\n",
    "    tools_condition,\n",
    ")\n",
    "\n",
    "builder.add_edge(\"tools\", \"chatbot\")\n",
    "builder.add_edge(START, \"chatbot\")\n",
    "\n",
    "graph = builder.compile()"
   ]
  },
  {
   "cell_type": "code",
   "execution_count": null,
   "id": "57eb86f5",
   "metadata": {},
   "outputs": [],
   "source": [
    "from IPython.display import Image, display\n",
    "\n",
    "try:\n",
    "    display(Image(graph.get_graph().draw_mermaid_png()))\n",
    "except Exception:\n",
    "    pass"
   ]
  },
  {
   "cell_type": "code",
   "execution_count": null,
   "id": "064f5d16",
   "metadata": {},
   "outputs": [],
   "source": [
    "response = graph.invoke({\n",
    "    \"messages\": [\n",
    "        HumanMessage(content=\"Qual o clima em Recife?\"),\n",
    "    ]\n",
    "})\n",
    "\n",
    "for msg in response[\"messages\"]:\n",
    "    print(f\"{msg.type}: {msg.content}\")"
   ]
  }
 ],
 "metadata": {
  "kernelspec": {
   "display_name": "base",
   "language": "python",
   "name": "python3"
  },
  "language_info": {
   "codemirror_mode": {
    "name": "ipython",
    "version": 3
   },
   "file_extension": ".py",
   "mimetype": "text/x-python",
   "name": "python",
   "nbconvert_exporter": "python",
   "pygments_lexer": "ipython3",
   "version": "3.10.9"
  }
 },
 "nbformat": 4,
 "nbformat_minor": 5
}
