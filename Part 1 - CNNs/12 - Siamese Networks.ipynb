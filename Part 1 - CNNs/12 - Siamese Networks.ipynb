{
 "cells": [
  {
   "cell_type": "markdown",
   "id": "10aa1bc0",
   "metadata": {},
   "source": [
    "## 1 – Configuração de ambiente  \n",
    "Importa bibliotecas, define device e hiperparâmetros centrais."
   ]
  },
  {
   "cell_type": "code",
   "execution_count": 9,
   "id": "803ec081",
   "metadata": {},
   "outputs": [],
   "source": [
    "import torch, random, itertools, math\n",
    "from torch import nn, optim\n",
    "from torch.utils.data import Dataset, DataLoader\n",
    "from torchvision import datasets, transforms"
   ]
  },
  {
   "cell_type": "code",
   "execution_count": 43,
   "id": "f04c932c",
   "metadata": {},
   "outputs": [],
   "source": [
    "device = \"cuda\" if torch.cuda.is_available() else \"cpu\"\n",
    "\n",
    "IMG_SIZE = 64\n",
    "BATCH_SIZE = 256\n",
    "EPOCHS = 10\n",
    "MARGIN = 1.0\n",
    "PAIRS_PER_EPOCH = 5000"
   ]
  },
  {
   "cell_type": "markdown",
   "id": "bdc8d724",
   "metadata": {},
   "source": [
    "## 2 – Omniglot  \n",
    "Baixa o conjunto e faz split: 30 alfabetos para treino, resto para teste (zero-shot)."
   ]
  },
  {
   "cell_type": "code",
   "execution_count": null,
   "id": "914a94ab",
   "metadata": {},
   "outputs": [
    {
     "name": "stdout",
     "output_type": "stream",
     "text": [
      "Files already downloaded and verified\n",
      "Files already downloaded and verified\n"
     ]
    }
   ],
   "source": [
    "transform = transforms.Compose([\n",
    "    transforms.Grayscale(),          # garante 1 canal\n",
    "    transforms.Resize((IMG_SIZE, IMG_SIZE)),\n",
    "    transforms.ToTensor()\n",
    "])\n",
    "\n",
    "root = \"./data/omniglot\"\n",
    "full = datasets.Omniglot(root, download=True, background=True, transform=transform)\n",
    "\n",
    "# background=True traz 30 alfabetos; background=False traz 20 alfabetos extras\n",
    "# Usaremos ambos para ter 50 alfabetos, depois dividimos manualmente\n",
    "extra = datasets.Omniglot(root, download=True, background=False, transform=transform)"
   ]
  },
  {
   "cell_type": "code",
   "execution_count": 54,
   "id": "7b167092",
   "metadata": {},
   "outputs": [],
   "source": [
    "from collections import defaultdict\n",
    "\n",
    "def split_by_alphabet(ds):\n",
    "    alpha2imgs = defaultdict(list)\n",
    "    for img, target in ds:\n",
    "        alpha = ds._characters[target].split(\"/\")[0]\n",
    "        alpha2imgs[alpha].append((img, target))\n",
    "    return alpha2imgs\n",
    "\n",
    "train_alpha = split_by_alphabet(full)          # 30 alfabetos\n",
    "test_alpha  = split_by_alphabet(extra)         # 20 alfabetos (unseen)"
   ]
  },
  {
   "cell_type": "markdown",
   "id": "3c393dae",
   "metadata": {},
   "source": [
    "## 3 – PairDataset  \n",
    "Gera pares (img1, img2, label) on-the-fly: label = 0 positivos, 1 negativos."
   ]
  },
  {
   "cell_type": "code",
   "execution_count": 55,
   "id": "3250f696",
   "metadata": {},
   "outputs": [],
   "source": [
    "class PairDataset(Dataset):\n",
    "    def __init__(self, alpha2imgs, pairs_per_epoch=5000):\n",
    "        self.alpha2imgs = alpha2imgs\n",
    "        self.classes = list(itertools.chain(*[[(a, i) for i in range(len(v))]\n",
    "                                              for a, v in alpha2imgs.items()]))\n",
    "        self.pairs_per_epoch = pairs_per_epoch\n",
    "\n",
    "    def __len__(self):\n",
    "        return self.pairs_per_epoch\n",
    "\n",
    "    def __getitem__(self, idx):\n",
    "        same = random.randint(0, 1) == 0\n",
    "        if same:\n",
    "            alpha = random.choice(list(self.alpha2imgs.keys()))\n",
    "            imgs = random.sample(self.alpha2imgs[alpha], 2)\n",
    "        else:\n",
    "            alpha1, alpha2 = random.sample(list(self.alpha2imgs.keys()), 2)\n",
    "            imgs = [random.choice(self.alpha2imgs[alpha1]),\n",
    "                    random.choice(self.alpha2imgs[alpha2])]\n",
    "        (img1, _), (img2, _) = imgs\n",
    "        label = torch.tensor(float(not same), dtype=torch.float32)  # 0=sim,1=dif\n",
    "        return img1, img2, label\n",
    "\n",
    "dataset = PairDataset(train_alpha, pairs_per_epoch=PAIRS_PER_EPOCH)\n",
    "train_loader = DataLoader(\n",
    "    dataset=dataset,\n",
    "    batch_size=BATCH_SIZE,\n",
    "    shuffle=True,\n",
    "    num_workers=4,\n",
    "    pin_memory=True\n",
    ")"
   ]
  },
  {
   "cell_type": "code",
   "execution_count": 56,
   "id": "39526ca2",
   "metadata": {},
   "outputs": [
    {
     "data": {
      "text/plain": [
       "(tensor([[[1., 1., 1.,  ..., 1., 1., 1.],\n",
       "          [1., 1., 1.,  ..., 1., 1., 1.],\n",
       "          [1., 1., 1.,  ..., 1., 1., 1.],\n",
       "          ...,\n",
       "          [1., 1., 1.,  ..., 1., 1., 1.],\n",
       "          [1., 1., 1.,  ..., 1., 1., 1.],\n",
       "          [1., 1., 1.,  ..., 1., 1., 1.]]]),\n",
       " tensor([[[1., 1., 1.,  ..., 1., 1., 1.],\n",
       "          [1., 1., 1.,  ..., 1., 1., 1.],\n",
       "          [1., 1., 1.,  ..., 1., 1., 1.],\n",
       "          ...,\n",
       "          [1., 1., 1.,  ..., 1., 1., 1.],\n",
       "          [1., 1., 1.,  ..., 1., 1., 1.],\n",
       "          [1., 1., 1.,  ..., 1., 1., 1.]]]),\n",
       " tensor(0.))"
      ]
     },
     "execution_count": 56,
     "metadata": {},
     "output_type": "execute_result"
    }
   ],
   "source": [
    "dataset[0]"
   ]
  },
  {
   "cell_type": "markdown",
   "id": "f22fabad",
   "metadata": {},
   "source": [
    "## 4 – Rede Siamese  \n",
    "Encoder convolucional → vetor de 4096 dim, compartilhado nos dois ramos."
   ]
  },
  {
   "cell_type": "code",
   "execution_count": 46,
   "id": "0e3238a5",
   "metadata": {},
   "outputs": [],
   "source": [
    "class SiameseNet(nn.Module):\n",
    "    def __init__(self):\n",
    "        super().__init__()\n",
    "\n",
    "        # ↓--- CNN corrigida ---↓\n",
    "        self.cnn = nn.Sequential(\n",
    "            nn.Conv2d(1, 64, 10), nn.ReLU(), nn.MaxPool2d(2),   # 64→55→27\n",
    "            nn.Conv2d(64, 128, 7), nn.ReLU(), nn.MaxPool2d(2),   # 27→21→10\n",
    "            nn.Conv2d(128,128, 4), nn.ReLU(), nn.MaxPool2d(2),  # 10→7→3\n",
    "            # ❶ kernel 4 dava erro (3 × 3); reduza para 3 e use padding=1\n",
    "            nn.Conv2d(128,256, 3, padding=1), nn.ReLU(),        # 3→3\n",
    "            # ❷ adapta qualquer tamanho de entrada para 1 × 1\n",
    "            nn.AdaptiveAvgPool2d(1)\n",
    "        )\n",
    "\n",
    "        # 256 canais × 1 × 1  → 4096\n",
    "        self.fc = nn.Sequential(\n",
    "            nn.Flatten(),\n",
    "            nn.Linear(256, 4096),\n",
    "            nn.Sigmoid()\n",
    "        )\n",
    "\n",
    "    def forward_once(self, x):\n",
    "        x = self.cnn(x)\n",
    "        return self.fc(x)\n",
    "\n",
    "    def forward(self, x1, x2):\n",
    "        return self.forward_once(x1), self.forward_once(x2)\n",
    "\n",
    "model = SiameseNet().to(device)"
   ]
  },
  {
   "cell_type": "markdown",
   "id": "ef093d18",
   "metadata": {},
   "source": [
    "## 5 – Contrastive Loss + Treino  \n",
    "Minimiza distância euclidiana para pares iguais, empurra para MARGIN para diferentes."
   ]
  },
  {
   "cell_type": "code",
   "execution_count": 47,
   "id": "17adad04",
   "metadata": {},
   "outputs": [],
   "source": [
    "class ContrastiveLoss(nn.Module):\n",
    "    def __init__(self, margin):\n",
    "        super().__init__()\n",
    "        self.margin = margin\n",
    "\n",
    "    def forward(self, out1, out2, label):\n",
    "        d = (out1 - out2).pow(2).sum(1).sqrt()\n",
    "        loss = (1 - label) * d.pow(2) + label * torch.clamp(self.margin - d, min=0).pow(2)\n",
    "        return loss.mean()"
   ]
  },
  {
   "cell_type": "code",
   "execution_count": 48,
   "id": "296f122c",
   "metadata": {},
   "outputs": [
    {
     "name": "stderr",
     "output_type": "stream",
     "text": [
      "/tmp/ipykernel_2819024/2510548251.py:18: FutureWarning: `torch.cuda.amp.autocast(args...)` is deprecated. Please use `torch.amp.autocast('cuda', args...)` instead.\n",
      "  with torch.cuda.amp.autocast():\n"
     ]
    },
    {
     "name": "stdout",
     "output_type": "stream",
     "text": [
      "Epoch 1/10  Loss 0.3554\n",
      "Epoch 2/10  Loss 0.2545\n",
      "Epoch 3/10  Loss 0.2452\n",
      "Epoch 4/10  Loss 0.2392\n",
      "Epoch 5/10  Loss 0.2401\n",
      "Epoch 6/10  Loss 0.2377\n",
      "Epoch 7/10  Loss 0.2326\n",
      "Epoch 8/10  Loss 0.2358\n",
      "Epoch 9/10  Loss 0.2274\n",
      "Epoch 10/10  Loss 0.2300\n"
     ]
    }
   ],
   "source": [
    "criterion = ContrastiveLoss(MARGIN)\n",
    "optimizer = optim.Adam(model.parameters(), lr=1e-3)\n",
    "\n",
    "scaler = torch.amp.GradScaler()\n",
    "\n",
    "for epoch in range(EPOCHS):\n",
    "    model.train()\n",
    "    cum_loss = 0.0\n",
    "    for img1, img2, label in train_loader:\n",
    "        img1, img2, label = (\n",
    "            img1.to(device, non_blocking=True),\n",
    "            img2.to(device, non_blocking=True),\n",
    "            label.to(device, non_blocking=True)\n",
    "        )\n",
    "\n",
    "        optimizer.zero_grad(set_to_none=True)\n",
    "\n",
    "        with torch.cuda.amp.autocast():\n",
    "            out1, out2 = model(img1, img2)\n",
    "            loss = criterion(out1, out2, label)\n",
    "\n",
    "        scaler.scale(loss).backward()\n",
    "        scaler.step(optimizer)\n",
    "        scaler.update()\n",
    "\n",
    "        cum_loss += loss.item()\n",
    "\n",
    "    print(f\"Epoch {epoch+1}/{EPOCHS}  Loss {cum_loss/len(train_loader):.4f}\")"
   ]
  },
  {
   "cell_type": "markdown",
   "id": "a1e2e68c",
   "metadata": {},
   "source": [
    "## 6 – Gerador de tarefas N-way K-shot  \n",
    "Seleciona N classes never-seen, devolve suporte e consultas."
   ]
  },
  {
   "cell_type": "code",
   "execution_count": 49,
   "id": "e46cbedf",
   "metadata": {},
   "outputs": [],
   "source": [
    "def sample_task(alpha2imgs, N=20, K=1, Q=5):\n",
    "    classes = random.sample(list(alpha2imgs.keys()), N)\n",
    "    support, query, labels = [], [], []\n",
    "    for idx, c in enumerate(classes):\n",
    "        imgs = random.sample(alpha2imgs[c], K + Q)\n",
    "        s, q = imgs[:K], imgs[K:]\n",
    "        support += [(img, idx) for img, _ in s]\n",
    "        query   += [(img, idx) for img, _ in q]\n",
    "    return support, query"
   ]
  },
  {
   "cell_type": "markdown",
   "id": "de0d2ca0",
   "metadata": {},
   "source": [
    "## 7 – Avaliação: 20-way 1-shot em alfabetos não vistos  \n",
    "Classifica cada consulta pelo NN mais próximo no set de suporte. Mede acurácia."
   ]
  },
  {
   "cell_type": "code",
   "execution_count": 51,
   "id": "22c385b3",
   "metadata": {},
   "outputs": [
    {
     "name": "stdout",
     "output_type": "stream",
     "text": [
      "20-way 1-shot accuracy: 59.37%\n"
     ]
    }
   ],
   "source": [
    "def embed(imgs):\n",
    "    with torch.no_grad():\n",
    "        return model.forward_once(torch.stack([i for i, _ in imgs]).to(device)).cpu()\n",
    "\n",
    "def few_shot_accuracy(tasks=200, N=20, K=1, Q=5):\n",
    "    correct, total = 0, 0\n",
    "    model.eval()\n",
    "    for _ in range(tasks):\n",
    "        support, query = sample_task(test_alpha, N, K, Q)\n",
    "        sup_emb = embed(support)\n",
    "        qry_emb = embed(query)\n",
    "        sup_labels = torch.tensor([lbl for _, lbl in support])\n",
    "        for i, (q_img, gt) in enumerate(query):\n",
    "            dists = torch.norm(qry_emb[i] - sup_emb, dim=1)\n",
    "            pred = sup_labels[dists.argmin()].item()\n",
    "            correct += int(pred == gt)\n",
    "            total += 1\n",
    "    return correct / total\n",
    "\n",
    "acc = few_shot_accuracy(N=3, K=5)\n",
    "print(f\"20-way 1-shot accuracy: {acc*100:.2f}%\")"
   ]
  },
  {
   "cell_type": "code",
   "execution_count": 24,
   "id": "0d55c26a",
   "metadata": {},
   "outputs": [
    {
     "data": {
      "image/png": "[encoded data removed]",
      "text/plain": [
       "<Figure size 400x200 with 2 Axes>"
      ]
     },
     "metadata": {},
     "output_type": "display_data"
    },
    {
     "name": "stdout",
     "output_type": "stream",
     "text": [
      "Distância euclidiana: 0.3382\n",
      "Mesmo caractere? Sim\n"
     ]
    }
   ],
   "source": [
    "# Selecionar novo par aleatório\n",
    "img1, img2, label = pair_dataset[42]\n",
    "\n",
    "plt.figure(figsize=(4, 2))\n",
    "plt.subplot(1, 2, 1)\n",
    "plt.imshow(img1.squeeze() * 0.5 + 0.5, cmap='gray')\n",
    "plt.title(\"Imagem 1\")\n",
    "plt.axis('off')\n",
    "\n",
    "plt.subplot(1, 2, 2)\n",
    "plt.imshow(img2.squeeze() * 0.5 + 0.5, cmap='gray')\n",
    "plt.title(\"Imagem 2\")\n",
    "plt.axis('off')\n",
    "plt.show()\n",
    "\n",
    "# Embeddings e distância\n",
    "model.eval()\n",
    "with torch.no_grad():\n",
    "    emb1, emb2 = model(img1.unsqueeze(0).to(device), img2.unsqueeze(0).to(device))\n",
    "    dist = F.pairwise_distance(emb1, emb2).item()\n",
    "\n",
    "print(f\"Distância euclidiana: {dist:.4f}\")\n",
    "print(f\"Mesmo caractere? {'Sim' if label.item() == 1 else 'Não'}\")"
   ]
  },
  {
   "cell_type": "code",
   "execution_count": null,
   "id": "baa51f15",
   "metadata": {},
   "outputs": [],
   "source": []
  }
 ],
 "metadata": {
  "kernelspec": {
   "display_name": "base",
   "language": "python",
   "name": "python3"
  },
  "language_info": {
   "codemirror_mode": {
    "name": "ipython",
    "version": 3
   },
   "file_extension": ".py",
   "mimetype": "text/x-python",
   "name": "python",
   "nbconvert_exporter": "python",
   "pygments_lexer": "ipython3",
   "version": "3.10.13"
  }
 },
 "nbformat": 4,
 "nbformat_minor": 5
}
