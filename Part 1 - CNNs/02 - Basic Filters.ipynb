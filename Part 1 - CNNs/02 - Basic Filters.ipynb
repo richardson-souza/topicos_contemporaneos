{
 "cells": [
  {
   "cell_type": "markdown",
   "metadata": {},
   "source": [
    "# Filtros de Imagem\n",
    "\n",
    "Filtros de imagem são ferramentas essenciais em visão computacional e processamento de imagens. Eles são usados para várias finalidades, como realçar características, reduzir ruídos, detectar bordas, etc.\n",
    "\n",
    "Filtros aplicam uma operação matemática sobre um grupo de pixels (vizinhança) em uma imagem para produzir um novo valor de pixel. Eles são geralmente representados por matrizes chamadas \"kernels\"."
   ]
  },
  {
   "cell_type": "markdown",
   "metadata": {},
   "source": [
    "## Operação de Convolução\n",
    "A convolução é uma operação matemática utilizada para aplicar filtros a uma imagem. A operação de convolução envolve passar o kernel sobre a imagem, calculando a soma ponderada dos pixels cobertos pelo kernel.\n",
    "\n",
    "A operação de convolução pode ser descrita da seguinte maneira:\n",
    "1. Posicione o kernel sobre a imagem de modo que o centro do kernel esteja alinhado com um pixel específico.\n",
    "2. Multiplique cada valor no kernel pelo valor do pixel correspondente na imagem.\n",
    "3. Some todos os produtos obtidos no passo anterior.\n",
    "4. O valor resultante é atribuído ao pixel central na imagem de saída.\n",
    "5. Repita o processo para cada pixel na imagem.\n",
    "\n",
    "Matematicamente, a convolução para uma imagem $I$ e um kernel $K$ pode ser descrita como:\n",
    "\n",
    "$(I * K)(i, j) = \\sum_{m} \\sum_{n} I(i+m, j+n) \\cdot K(m, n)$\n",
    "\n",
    "onde $i$ e $j$ são as coordenadas do pixel na imagem de saída, e $m$ e $n$ são os índices dos elementos do kernel.\n",
    "\n",
    "### Exemplo de Kernel\n",
    "Um kernel 3x3 para suavização (média) pode ser representado da seguinte forma:\n",
    "\n",
    "$K = \\frac{1}{9} \\begin{bmatrix}\n",
    "1 & 1 & 1 \\\\\n",
    "1 & 1 & 1 \\\\\n",
    "1 & 1 & 1 \\\\\n",
    "\\end{bmatrix}$"
   ]
  },
  {
   "cell_type": "markdown",
   "metadata": {},
   "source": [
    "### Aplicando Filtros\n",
    "\n",
    "Vamos implementar uma função chamada `apply_filter` que recebe uma imagem e um kernel, e aplica o filtro na imagem utilizando convolução."
   ]
  },
  {
   "cell_type": "code",
   "execution_count": null,
   "metadata": {},
   "outputs": [],
   "source": [
    "import numpy as np\n",
    "import cv2\n",
    "from matplotlib import pyplot as plt"
   ]
  },
  {
   "cell_type": "code",
   "execution_count": null,
   "metadata": {},
   "outputs": [],
   "source": [
    "# Definindo uma função auxiliar para exibir imagens\n",
    "def show_image(img, title='Image', cmap_type='gray', figsize=(4, 4), vmin=0, vmax=255):\n",
    "    plt.figure(figsize=figsize)\n",
    "    plt.imshow(img, cmap=cmap_type, vmin=vmin, vmax=vmax)\n",
    "    plt.title(title)\n",
    "    plt.axis('off')\n",
    "    plt.show()"
   ]
  },
  {
   "cell_type": "code",
   "execution_count": null,
   "metadata": {},
   "outputs": [],
   "source": [
    "# Caso a pasta 'data' não exista, crie-a e faça o download da imagem\n",
    "import os\n",
    "\n",
    "os.makedirs('data', exist_ok=True)\n",
    "!curl -o data/lenna.png https://upload.wikimedia.org/wikipedia/en/7/7d/Lenna_%28test_image%29.png"
   ]
  },
  {
   "cell_type": "code",
   "execution_count": null,
   "metadata": {},
   "outputs": [],
   "source": [
    "def apply_filter(image, kernel):\n",
    "    # Obtendo as dimensões da imagem e do kernel\n",
    "    img_height, img_width = image.shape\n",
    "    kernel_height, kernel_width = kernel.shape\n",
    "    \n",
    "    # Calculando as bordas para o padding\n",
    "    pad_height = kernel_height // 2\n",
    "    pad_width = kernel_width // 2\n",
    "    \n",
    "    # Aplicando padding na imagem\n",
    "    padded_image = np.pad(image, ((pad_height, pad_height), (pad_width, pad_width)), mode='constant', constant_values=0)\n",
    "\n",
    "    # Inicializando a imagem filtrada\n",
    "    filtered_image = np.zeros_like(image)\n",
    "    \n",
    "    # Aplicando a convolução\n",
    "    for i in range(img_height):\n",
    "        for j in range(img_width):\n",
    "            region = padded_image[i:i+kernel_height, j:j+kernel_width]\n",
    "            filtered_value = np.sum(region * kernel)\n",
    "            filtered_image[i, j] = np.clip(filtered_value, 0, 255)\n",
    "    \n",
    "    return filtered_image"
   ]
  },
  {
   "cell_type": "markdown",
   "metadata": {},
   "source": [
    "### Filtro de Suavização (Blur)\n",
    "\n",
    "Um kernel 3x3 para suavização (média) pode ser representado da seguinte forma:\n",
    "\n",
    "$K = \\frac{1}{9} \\begin{bmatrix}\n",
    "1 & 1 & 1 \\\\\n",
    "1 & 1 & 1 \\\\\n",
    "1 & 1 & 1 \\\\\n",
    "\\end{bmatrix}$\n",
    "\n",
    "Vamos aplicar um filtro de suavização utilizando um kernel 3x3 para calcular a média dos pixels vizinhos."
   ]
  },
  {
   "cell_type": "code",
   "execution_count": null,
   "metadata": {},
   "outputs": [],
   "source": [
    "circle_image = np.zeros((100, 100), dtype=np.uint8)\n",
    "center = (50, 50)\n",
    "radius = 25\n",
    "\n",
    "for y in range(100):\n",
    "    for x in range(100):\n",
    "        dist = (x - center[0])**2 + (y - center[1])**2\n",
    "        if dist <= radius**2:\n",
    "            circle_image[y, x] = 255\n",
    "\n",
    "show_image(circle_image, title='Imagem com um Círculo')"
   ]
  },
  {
   "cell_type": "code",
   "execution_count": null,
   "metadata": {},
   "outputs": [],
   "source": [
    "blur_kernel = np.ones((3, 3)) / 9\n",
    "\n",
    "np.set_printoptions(precision=3, suppress=True)\n",
    "\n",
    "print(\"Kernel de Suavização (Blur):\")\n",
    "print(blur_kernel)\n",
    "\n",
    "blurred_circle = apply_filter(circle_image, blur_kernel)\n",
    "\n",
    "show_image(blurred_circle, title='Filtro de Suavização')"
   ]
  },
  {
   "cell_type": "markdown",
   "metadata": {},
   "source": [
    "### Filtro de Detecção de Bordas (Sobel)\n",
    "\n",
    "O filtro de Sobel é utilizado para detecção de bordas em imagens, destacando mudanças abruptas de intensidade. Existem dois tipos principais de filtros de Sobel: o filtro horizontal e o filtro vertical.\n",
    "\n",
    "Um kernel Sobel para detecção de bordas horizontais $K_x$ pode ser representado da seguinte forma:\n",
    "\n",
    "$K_x = \\begin{bmatrix}\n",
    "-1 & -2 & -1 \\\\\n",
    "0 & 0 & 0 \\\\\n",
    "1 & 2 & 1 \\\\\n",
    "\\end{bmatrix}$\n",
    "\n",
    "Para detecção de bordas verticais $K_y$, o kernel Sobel é:\n",
    "\n",
    "$K_y = \\begin{bmatrix}\n",
    "-1 & 0 & 1 \\\\\n",
    "-2 & 0 & 2 \\\\\n",
    "-1 & 0 & 1 \\\\\n",
    "\\end{bmatrix}$\n",
    "\n",
    "Vamos aplicar os filtros Sobel para detectar bordas horizontais e verticais na imagem Lenna."
   ]
  },
  {
   "cell_type": "code",
   "execution_count": null,
   "metadata": {},
   "outputs": [],
   "source": [
    "lenna = cv2.imread('data/lenna.png')\n",
    "lenna_gray = cv2.cvtColor(lenna, cv2.COLOR_BGR2GRAY)"
   ]
  },
  {
   "cell_type": "code",
   "execution_count": null,
   "metadata": {},
   "outputs": [],
   "source": [
    "sobel_x_kernel = np.array([[1, 2, 1], [0, 0, 0], [-1, -2, -1]])\n",
    "\n",
    "print(\"Kernel Sobel para detecção de bordas horizontais (Sobel X):\")\n",
    "print(sobel_x_kernel)\n",
    "\n",
    "sobel_x_lenna = apply_filter(lenna_gray, sobel_x_kernel)\n",
    "\n",
    "show_image(sobel_x_kernel, title='Filtro Sobel X', vmin=-2, vmax=2, figsize=(2, 2))\n",
    "show_image(sobel_x_lenna, title='Detecção de Bordas Horizontais')"
   ]
  },
  {
   "cell_type": "code",
   "execution_count": null,
   "metadata": {},
   "outputs": [],
   "source": [
    "sobel_y_kernel = np.array([[-1, 0, 1], [-2, 0, 2], [-1, 0, 1]])\n",
    "\n",
    "print(\"Kernel Sobel para detecção de bordas verticais (Sobel Y):\")\n",
    "print(sobel_y_kernel)\n",
    "\n",
    "sobel_y_lenna = apply_filter(lenna_gray, sobel_y_kernel)\n",
    "\n",
    "show_image(sobel_y_kernel, title='Filtro Sobel Y', vmin=-2, vmax=2, figsize=(2, 2))\n",
    "show_image(sobel_y_lenna, title='Detecção de Bordas Verticais')"
   ]
  },
  {
   "cell_type": "code",
   "execution_count": null,
   "metadata": {},
   "outputs": [],
   "source": [
    "# Calculando a soma das magnitudes das bordas\n",
    "sobel_lenna = 0.5 * np.abs(sobel_x_lenna) + 0.5 * np.abs(sobel_y_lenna)\n",
    "sobel_lenna = (sobel_lenna / sobel_lenna.max()) * 255\n",
    "sobel_lenna = sobel_lenna.astype(np.uint8)\n",
    "\n",
    "show_image(sobel_lenna, title='Detecção de Bordas')"
   ]
  },
  {
   "cell_type": "code",
   "execution_count": null,
   "metadata": {},
   "outputs": [],
   "source": [
    "# Calculando a magnitude das bordas usando a raiz quadrada\n",
    "sobel_lenna = np.sqrt(sobel_x_lenna**2 + sobel_y_lenna**2)\n",
    "sobel_lenna = (sobel_lenna / sobel_lenna.max()) * 255\n",
    "sobel_lenna = sobel_lenna.astype(np.uint8)\n",
    "\n",
    "show_image(sobel_lenna, title='Detecção de Bordas')"
   ]
  },
  {
   "cell_type": "markdown",
   "metadata": {},
   "source": [
    "#### Direção do Gradiente (Quiver)\n",
    "Vamos visualizar a direção do gradiente utilizando um gráfico de vetores (quiver). Isso nos ajudará a entender a orientação das bordas detectadas pelo filtro Sobel."
   ]
  },
  {
   "cell_type": "code",
   "execution_count": null,
   "metadata": {},
   "outputs": [],
   "source": [
    "# Calcula direção e magnitude\n",
    "magnitude = np.sqrt(sobel_x_lenna**2 + sobel_y_lenna**2)\n",
    "direction = np.arctan2(sobel_y_lenna, sobel_x_lenna)\n",
    "\n",
    "# Amostragem para exibir menos vetores\n",
    "step = 7\n",
    "y, x = np.mgrid[0:lenna_gray.shape[0]:step, 0:lenna_gray.shape[1]:step]\n",
    "u = sobel_x_lenna[::step, ::step]\n",
    "v = sobel_y_lenna[::step, ::step]\n",
    "\n",
    "# Normalização dos vetores (evita flechas gigantes)\n",
    "norm = np.sqrt(u**2 + v**2)\n",
    "u = sobel_x_lenna[::step, ::step].astype(np.float32)\n",
    "v = sobel_y_lenna[::step, ::step].astype(np.float32)\n",
    "\n",
    "# Visualização\n",
    "plt.figure(figsize=(6, 6))\n",
    "plt.imshow(lenna_gray, cmap='gray', alpha=0.6)\n",
    "plt.quiver(x, y, u, v, color='red', angles='xy', scale_units='xy', scale=10, width=0.003, headwidth=3)\n",
    "\n",
    "plt.title('Direção do Gradiente (Sobel)')\n",
    "plt.axis('off')\n",
    "plt.tight_layout()\n",
    "plt.show()"
   ]
  },
  {
   "cell_type": "markdown",
   "metadata": {},
   "source": [
    "## Exercícios\n",
    "Agora é sua vez!"
   ]
  },
  {
   "cell_type": "markdown",
   "metadata": {},
   "source": [
    "### Exercício 1\n",
    "\n",
    "O filtro de realce (sharpen) é utilizado para aumentar a nitidez de uma imagem, destacando bordas e detalhes finos. A lógica por trás do kernel de realce envolve a aplicação de valores negativos aos pixels vizinhos e um valor positivo central elevado, o que enfatiza as transições de intensidade. Um exemplo de kernel de realce é:\n",
    "\n",
    "$K_{sharpen} = \\begin{bmatrix}\n",
    "0 & -1 & 0 \\\\\n",
    "-1 & 5 & -1 \\\\\n",
    "0 & -1 & 0 \\\\\n",
    "\\end{bmatrix}$\n",
    "\n",
    "Já o filtro de relevo (emboss) cria um efeito de relevo na imagem, fazendo com que pareça que a imagem está em alto-relevo. A lógica por trás do kernel de emboss é utilizar uma combinação de valores negativos e positivos, que simula sombras e realces. Um exemplo de kernel de emboss é:\n",
    "\n",
    "$K_{emboss} = \\begin{bmatrix}\n",
    "-2 & -1 & 0 \\\\\n",
    "-1 & 1 & 1 \\\\\n",
    "0 & 1 & 2 \\\\\n",
    "\\end{bmatrix}$\n",
    "\n",
    "1. Aplique o filtro de realce (sharpen) à imagem Lenna e observe como ele aumenta a nitidez da imagem.\n",
    "2. Aplique o filtro de relevo (emboss) à imagem Lenna e observe o efeito de relevo criado.\n",
    "3. Plote as imagens resultantes após a aplicação de cada filtro."
   ]
  },
  {
   "cell_type": "code",
   "execution_count": null,
   "metadata": {},
   "outputs": [],
   "source": []
  },
  {
   "cell_type": "markdown",
   "metadata": {},
   "source": [
    "### Exercício 2\n",
    "Escolha um dos filtros vistos aqui e aplique-o para uma imagem em RGB."
   ]
  },
  {
   "cell_type": "code",
   "execution_count": null,
   "metadata": {},
   "outputs": [],
   "source": []
  }
 ],
 "metadata": {
  "kernelspec": {
   "display_name": "base",
   "language": "python",
   "name": "python3"
  },
  "language_info": {
   "codemirror_mode": {
    "name": "ipython",
    "version": 3
   },
   "file_extension": ".py",
   "mimetype": "text/x-python",
   "name": "python",
   "nbconvert_exporter": "python",
   "pygments_lexer": "ipython3",
   "version": "3.10.13"
  }
 },
 "nbformat": 4,
 "nbformat_minor": 2
}
